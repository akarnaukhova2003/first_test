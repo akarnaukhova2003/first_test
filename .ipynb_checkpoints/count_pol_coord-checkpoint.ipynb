{
 "cells": [
  {
   "cell_type": "code",
   "execution_count": 15,
   "id": "69fb2912-ea7d-4d6f-9e70-dbb42c1d06e9",
   "metadata": {},
   "outputs": [
    {
     "name": "stdout",
     "output_type": "stream",
     "text": [
      "Количество генов 1B: 7060\n",
      "Количество генов длиной > 500 nt: 2114\n",
      "Количество генов длиной > 1400 nt: 902\n",
      "Количество генов длиной > 1500 nt: 794\n"
     ]
    }
   ],
   "source": [
    "import csv\n",
    "th = [500, 1400, 1500]\n",
    "cnt_all = 0\n",
    "cnt_th = {t: 0 for t in th}\n",
    "with open(\"AV_orf.txt\") as file:\n",
    "    r = csv.DictReader(file, delimiter=',') \n",
    "    for row in r:\n",
    "        coord = row['1B']\n",
    "        if coord != 'NA-NA' and '-' in coord:\n",
    "            try:\n",
    "                start_end = coord.split('-')\n",
    "                start = int(start_end[0])\n",
    "                end = int(start_end[1])\n",
    "            except ValueError:\n",
    "                continue\n",
    "            length = end - start + 1\n",
    "            cnt_all += 1\n",
    "            for t in th:\n",
    "                if length > t:\n",
    "                    cnt_th[t] += 1\n",
    "print(f\"Количество генов 1B: {cnt_all}\")\n",
    "for t in sorted(th):\n",
    "    print(f\"Количество генов длиной > {t} nt: {cnt_th[t]}\")\n"
   ]
  }
 ],
 "metadata": {
  "kernelspec": {
   "display_name": "Python [conda env:base] *",
   "language": "python",
   "name": "conda-base-py"
  },
  "language_info": {
   "codemirror_mode": {
    "name": "ipython",
    "version": 3
   },
   "file_extension": ".py",
   "mimetype": "text/x-python",
   "name": "python",
   "nbconvert_exporter": "python",
   "pygments_lexer": "ipython3",
   "version": "3.13.5"
  }
 },
 "nbformat": 4,
 "nbformat_minor": 5
}
