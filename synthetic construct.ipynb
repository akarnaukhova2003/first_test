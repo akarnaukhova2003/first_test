{
 "cells": [
  {
   "cell_type": "code",
   "execution_count": 32,
   "id": "87ab2ccf-6f4a-419d-a7c1-d9f97c83e29b",
   "metadata": {},
   "outputs": [
    {
     "name": "stdout",
     "output_type": "stream",
     "text": [
      "    Accession                                        Description  \\\n",
      "0  PV975263.1  1. UNVERIFIED: Mamastrovirus 13 isolate sheep/...   \n",
      "1  PV975262.1  2. UNVERIFIED: Mamastrovirus 13 isolate sheep/...   \n",
      "2  PV972769.1  3. UNVERIFIED: Mamastrovirus 13 isolate Ferri_...   \n",
      "3  PV972768.1  4. UNVERIFIED: Mamastrovirus 13 isolate Ferri_...   \n",
      "4  PV972767.1  5. UNVERIFIED: Mamastrovirus 13 isolate Ferri_...   \n",
      "\n",
      "                Length  \n",
      "0  6,411 bp linear RNA  \n",
      "1  6,250 bp linear RNA  \n",
      "2    397 bp linear RNA  \n",
      "3    256 bp linear RNA  \n",
      "4    360 bp linear RNA  \n"
     ]
    }
   ],
   "source": [
    "import pandas as pd\n",
    "with open(\"with_synth.txt\", encoding=\"utf-8\") as f:\n",
    "    lines = [line.strip() for line in f if line.strip()]\n",
    "records = []\n",
    "for i in range(0, len(lines), 3):  # каждая запись = 3 строки\n",
    "    description = lines[i]\n",
    "    length_info = lines[i+1]\n",
    "    accession = lines[i+2].split()[0]  # берем accession, игнорируем GI\n",
    "    records.append({\"Accession\": accession,\"Description\": description,\"Length\": length_info})\n",
    "with_synth_df = pd.DataFrame(records)\n",
    "with_synth_df.to_csv(\"with_synth.csv\", index=False)\n",
    "print(with_synth_df.head())"
   ]
  },
  {
   "cell_type": "code",
   "execution_count": 33,
   "id": "5ea12533-bebe-430f-90e3-1b113c97c623",
   "metadata": {},
   "outputs": [
    {
     "name": "stdout",
     "output_type": "stream",
     "text": [
      "    Accession                                        Description  \\\n",
      "0  PV975263.1  1. UNVERIFIED: Mamastrovirus 13 isolate sheep/...   \n",
      "1  PV975262.1  2. UNVERIFIED: Mamastrovirus 13 isolate sheep/...   \n",
      "2  PV972769.1  3. UNVERIFIED: Mamastrovirus 13 isolate Ferri_...   \n",
      "3  PV972768.1  4. UNVERIFIED: Mamastrovirus 13 isolate Ferri_...   \n",
      "4  PV972767.1  5. UNVERIFIED: Mamastrovirus 13 isolate Ferri_...   \n",
      "\n",
      "                Length  \n",
      "0  6,411 bp linear RNA  \n",
      "1  6,250 bp linear RNA  \n",
      "2    397 bp linear RNA  \n",
      "3    256 bp linear RNA  \n",
      "4    360 bp linear RNA  \n"
     ]
    }
   ],
   "source": [
    "import pandas as pd\n",
    "with open(\"without_synth.txt\", encoding=\"utf-8\") as f:\n",
    "    lines = [line.strip() for line in f if line.strip()]\n",
    "records = []\n",
    "for i in range(0, len(lines), 3):  # каждая запись = 3 строки\n",
    "    description = lines[i]\n",
    "    length_info = lines[i+1]\n",
    "    accession = lines[i+2].split()[0]  # берем accession, игнорируем GI\n",
    "    records.append({\"Accession\": accession,\"Description\": description,\"Length\": length_info})\n",
    "without_synth_df = pd.DataFrame(records)\n",
    "without_synth_df.to_csv(\"without_synth_df.csv\", index=False)\n",
    "print(without_synth_df.head())"
   ]
  },
  {
   "cell_type": "code",
   "execution_count": 36,
   "id": "0baf5d9d-d0e6-48ef-8be6-65cc86bd4237",
   "metadata": {},
   "outputs": [
    {
     "name": "stdout",
     "output_type": "stream",
     "text": [
      "set()\n"
     ]
    }
   ],
   "source": [
    "set1 = set(with_synth_df['Description'])\n",
    "set2 = set(without_synth_df['Description'])\n",
    "diff = set1 - set2 \n",
    "print(diff)"
   ]
  }
 ],
 "metadata": {
  "kernelspec": {
   "display_name": "Python 3 (ipykernel)",
   "language": "python",
   "name": "python3"
  },
  "language_info": {
   "codemirror_mode": {
    "name": "ipython",
    "version": 3
   },
   "file_extension": ".py",
   "mimetype": "text/x-python",
   "name": "python",
   "nbconvert_exporter": "python",
   "pygments_lexer": "ipython3",
   "version": "3.13.5"
  }
 },
 "nbformat": 4,
 "nbformat_minor": 5
}
