{
 "cells": [
  {
   "cell_type": "markdown",
   "id": "b1566348-35e7-4990-b21a-72ba1ebf310c",
   "metadata": {},
   "source": [
    "Вывод id-шников, у которых выложена комплементарная цепь "
   ]
  },
  {
   "cell_type": "code",
   "execution_count": 19,
   "id": "01702ab6-f8cc-40ef-bfa2-58f88faaba8d",
   "metadata": {},
   "outputs": [
    {
     "name": "stdout",
     "output_type": "stream",
     "text": [
      "['PV979748', 'PQ421850', 'PQ421849', 'PV351774', 'PV351773', 'PV351772', 'PV351771', 'PV351770', 'PQ496891', 'PQ496890', 'PQ055531', 'OL345584', 'OL345583', 'PX095816', 'PX095800', 'PX113253', 'OR134528', 'OR134527', 'OR134526', 'OR134525', 'OR134524', 'OR134523', 'OR134522', 'OR134521', 'OR134520', 'OR134519', 'OR134518', 'PQ678018', 'PQ678017', 'MW810341', 'MW810339', 'MW810338', 'MW810337', 'MW810332', 'PP623814', 'OM966723', 'OM966722', 'OM105048', 'OM105035', 'OM105032', 'OM105003', 'OQ805853', 'OQ805852', 'KY214438', 'KY214437']\n"
     ]
    }
   ],
   "source": [
    "import pandas as pd\n",
    "df = pd.read_csv(\"AV_orf.txt\")\n",
    "def first_coord(x):\n",
    "    if x != \"NA-NA\":\n",
    "        start, end = x.split(\"-\")\n",
    "        return int(start)\n",
    "\n",
    "df[\"1A_first\"] = df[\"1A\"].apply(first_coord)\n",
    "result = df[df[\"1A_first\"] > 2000]\n",
    "id_list = result[\"id\"].tolist()\n",
    "print(id_list)\n",
    "pd.DataFrame(id_list, columns=[\"id\"]).to_csv(\"ids_compls_chain.csv\", index=False)"
   ]
  },
  {
   "cell_type": "markdown",
   "id": "8b789b67-1bed-4d45-95b0-7666f44f71e5",
   "metadata": {},
   "source": [
    "Вывод id-шников, у которых везде NA-NA"
   ]
  },
  {
   "cell_type": "code",
   "execution_count": 21,
   "id": "2af785a6-97ce-4ad6-a65f-02a40365e09e",
   "metadata": {},
   "outputs": [
    {
     "name": "stdout",
     "output_type": "stream",
     "text": [
      "7093\n"
     ]
    }
   ],
   "source": [
    "import pandas as pd\n",
    "df = pd.read_csv(\"AV_orf.txt\")\n",
    "result = df[(df[\"1A\"] == \"NA-NA\") & (df[\"1B\"] == \"NA-NA\") & (df[\"2\"] == \"NA-NA\")]\n",
    "id_list = result[\"id\"].tolist()\n",
    "print(len(id_list))\n",
    "pd.DataFrame(id_list, columns=[\"id\"]).to_csv(\"all_NA_ids.csv\", index=False)"
   ]
  }
 ],
 "metadata": {
  "kernelspec": {
   "display_name": "Python [conda env:base] *",
   "language": "python",
   "name": "conda-base-py"
  },
  "language_info": {
   "codemirror_mode": {
    "name": "ipython",
    "version": 3
   },
   "file_extension": ".py",
   "mimetype": "text/x-python",
   "name": "python",
   "nbconvert_exporter": "python",
   "pygments_lexer": "ipython3",
   "version": "3.13.5"
  }
 },
 "nbformat": 4,
 "nbformat_minor": 5
}
